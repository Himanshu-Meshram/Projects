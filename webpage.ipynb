{
  "nbformat": 4,
  "nbformat_minor": 0,
  "metadata": {
    "colab": {
      "provenance": [],
      "authorship_tag": "ABX9TyNnxu9hxvD3sgA+R+VjuyjZ",
      "include_colab_link": true
    },
    "kernelspec": {
      "name": "python3",
      "display_name": "Python 3"
    },
    "language_info": {
      "name": "python"
    }
  },
  "cells": [
    {
      "cell_type": "markdown",
      "metadata": {
        "id": "view-in-github",
        "colab_type": "text"
      },
      "source": [
        "<a href=\"https://colab.research.google.com/github/Himanshu-Meshram/Projects/blob/Laptop-Price-Prediction/webpage.ipynb\" target=\"_parent\"><img src=\"https://colab.research.google.com/assets/colab-badge.svg\" alt=\"Open In Colab\"/></a>"
      ]
    },
    {
      "cell_type": "code",
      "execution_count": null,
      "metadata": {
        "id": "eO9_ibhHagv2"
      },
      "outputs": [],
      "source": [
        "## Open in Pycharm\n",
        "## install Libraries !pip\n",
        "## upload the pickle files\n",
        "## run in ternimal as streamlit run (name.py)\n",
        "\n",
        "import streamlit as st\n",
        "import pickle\n",
        "import numpy as np\n",
        "\n",
        "# Load model and data\n",
        "pipe = pickle.load(open('pipe.pkl', 'rb'))\n",
        "df = pickle.load(open('df.pkl', 'rb'))\n",
        "\n",
        "st.title(\"Laptop Price Predictor\")\n",
        "\n",
        "# UI Elements\n",
        "Company = st.selectbox('Company', df['Company'].unique())\n",
        "\n",
        "type = st.selectbox('Type', df['TypeName'].unique())\n",
        "\n",
        "Inches = st.selectbox('Screen Size (inches)', [13,14,15,17])\n",
        "\n",
        "Ram = st.selectbox('Ram (in GB)', [2, 4, 6, 8, 12, 16, 24, 32, 64, 128])\n",
        "\n",
        "Weight = st.selectbox('Weight (kg)',  [1,2,3])\n",
        "\n",
        "Screen = st.selectbox('Screen Size', df['Screen'].unique())\n",
        "\n",
        "Touchscreen = st.selectbox('Touchscreen', ['Yes', 'No'])\n",
        "\n",
        "IPS_panel = st.selectbox('IPS Panel', ['Yes', 'No'])\n",
        "\n",
        "Retina_Display = st.selectbox('Retina Display', ['Yes', 'No'])\n",
        "\n",
        "# Ensure screen size is float\n",
        "\n",
        "CPU = st.selectbox('CPU', df['CPU'].unique())\n",
        "\n",
        "Primary_Storage_Type = st.selectbox('Primary Storage Type', ['HDD', 'SSD', 'No'])\n",
        "Primary_Storage = st.selectbox('Primary Storage (GB)', [0, 128, 256, 512, 1024, 2048])\n",
        "\n",
        "Secondary_Storage_Type = st.selectbox('Secondary Storage Type', ['HDD', 'SSD', 'No'])\n",
        "Secondary_Storage = st.selectbox('Secondary Storage (GB)', [0, 128, 256, 512, 1024, 2048])\n",
        "\n",
        "GPU = st.selectbox('GPU Brand', df['GPU_company'].unique())\n",
        "GPU_model = st.selectbox('GPU Model', df['GPU_model'].unique())\n",
        "\n",
        "Resolution = st.selectbox('Resolution', ['1920x1080', '1366x768', '1600x900', '3848x2160',\n",
        "    '3200x1800', '2880x1800', '2560x1600', '2560x1440', '2304x1440'])\n",
        "\n",
        "OS = st.selectbox('Operating System', df['os'].unique())\n",
        "\n",
        "if st.button('Predict Price', key='predict_button'):\n",
        "        try:\n",
        "            # PPI calculation\n",
        "            X_res = int(Resolution.split('x')[0])\n",
        "            Y_res = int(Resolution.split('x')[1])\n",
        "            ppi = ((X_res ** 2 + Y_res ** 2) ** 0.5) / Inches\n",
        "\n",
        "# Type conversions\n",
        "            Ram = int(Ram)\n",
        "            Weight = float(Weight)\n",
        "            Primary_Storage = int(Primary_Storage)\n",
        "            Secondary_Storage = int(Secondary_Storage)\n",
        "\n",
        "# Final query\n",
        "            query = np.array([ Company, type, Inches, Ram, Weight,Screen, Touchscreen, IPS_panel, Retina_Display,\n",
        "                Primary_Storage, Secondary_Storage,Primary_Storage_Type, Secondary_Storage_Type,GPU, GPU_model, ppi, CPU, OS],\n",
        "                dtype=object).reshape(1, -1)\n",
        "\n",
        "            st.write(\"Query Preview:\", query)\n",
        "\n",
        "# Predict\n",
        "            prediction = pipe.predict(query)[0]\n",
        "            st.success(f\"Predicted Laptop Price: ₹ {round(prediction)}\")\n",
        "\n",
        "        except Exception as e:\n",
        "            st.error(f\"Prediction error: {e}\")\n"
      ]
    }
  ]
}